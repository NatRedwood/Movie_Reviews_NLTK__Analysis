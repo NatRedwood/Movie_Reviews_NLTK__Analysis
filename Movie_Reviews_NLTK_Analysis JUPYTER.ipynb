{
 "cells": [
  {
   "cell_type": "markdown",
   "metadata": {},
   "source": [
    "# Movie Reviews Corpus Analysis in NLTK<br>\n",
    "## Natalia Wojarnik"
   ]
  },
  {
   "cell_type": "code",
   "execution_count": 35,
   "metadata": {},
   "outputs": [],
   "source": [
    "#Loading important libraries and modules used for the analysis\n",
    "\n",
    "import nltk\n",
    "from nltk.corpus import movie_reviews\n",
    "import pandas as pd"
   ]
  },
  {
   "cell_type": "code",
   "execution_count": 57,
   "metadata": {},
   "outputs": [
    {
     "data": {
      "text/plain": [
       "2000"
      ]
     },
     "execution_count": 57,
     "metadata": {},
     "output_type": "execute_result"
    }
   ],
   "source": [
    "len(nltk.corpus.movie_reviews.fileids())"
   ]
  },
  {
   "cell_type": "code",
   "execution_count": 58,
   "metadata": {},
   "outputs": [
    {
     "data": {
      "text/plain": [
       "['neg', 'pos']"
      ]
     },
     "execution_count": 58,
     "metadata": {},
     "output_type": "execute_result"
    }
   ],
   "source": [
    "movie_reviews.categories()"
   ]
  },
  {
   "cell_type": "markdown",
   "metadata": {},
   "source": [
    "## Average word and sentence length and language diversity<br>\n",
    "\n",
    "<p>There are 2000 different movie reviews in both categories: negative and positive. Using pandas I will conduct basic analysis and present them in the dataframe to take a look at the average word length, sentence length and language diversity.</p>"
   ]
  },
  {
   "cell_type": "code",
   "execution_count": 37,
   "metadata": {},
   "outputs": [],
   "source": [
    "stats = []\n",
    "for fileid in movie_reviews.fileids():\n",
    "    num_chars = len(movie_reviews.raw(fileid))\n",
    "    num_words = len(movie_reviews.words(fileid))\n",
    "    num_sents = len(movie_reviews.sents(fileid))\n",
    "    num_vocab = len(set(word.lower() for word in movie_reviews.words(fileid)))\n",
    "    stats.append([fileid,round(num_chars/num_words),round(num_words/num_sents),round(num_words/num_vocab)])"
   ]
  },
  {
   "cell_type": "code",
   "execution_count": 38,
   "metadata": {},
   "outputs": [
    {
     "data": {
      "text/html": [
       "<div>\n",
       "<style scoped>\n",
       "    .dataframe tbody tr th:only-of-type {\n",
       "        vertical-align: middle;\n",
       "    }\n",
       "\n",
       "    .dataframe tbody tr th {\n",
       "        vertical-align: top;\n",
       "    }\n",
       "\n",
       "    .dataframe thead th {\n",
       "        text-align: right;\n",
       "    }\n",
       "</style>\n",
       "<table border=\"1\" class=\"dataframe\">\n",
       "  <thead>\n",
       "    <tr style=\"text-align: right;\">\n",
       "      <th></th>\n",
       "      <th>Text ID</th>\n",
       "      <th>Average Word Length</th>\n",
       "      <th>Average Sentence Length</th>\n",
       "      <th>Linguistic Diversity</th>\n",
       "    </tr>\n",
       "  </thead>\n",
       "  <tbody>\n",
       "    <tr>\n",
       "      <th>0</th>\n",
       "      <td>neg/cv000_29416.txt</td>\n",
       "      <td>5</td>\n",
       "      <td>20</td>\n",
       "      <td>2</td>\n",
       "    </tr>\n",
       "    <tr>\n",
       "      <th>1</th>\n",
       "      <td>neg/cv001_19502.txt</td>\n",
       "      <td>5</td>\n",
       "      <td>22</td>\n",
       "      <td>2</td>\n",
       "    </tr>\n",
       "    <tr>\n",
       "      <th>2</th>\n",
       "      <td>neg/cv002_17424.txt</td>\n",
       "      <td>5</td>\n",
       "      <td>23</td>\n",
       "      <td>2</td>\n",
       "    </tr>\n",
       "    <tr>\n",
       "      <th>3</th>\n",
       "      <td>neg/cv003_12683.txt</td>\n",
       "      <td>5</td>\n",
       "      <td>27</td>\n",
       "      <td>2</td>\n",
       "    </tr>\n",
       "    <tr>\n",
       "      <th>4</th>\n",
       "      <td>neg/cv004_12641.txt</td>\n",
       "      <td>5</td>\n",
       "      <td>24</td>\n",
       "      <td>2</td>\n",
       "    </tr>\n",
       "    <tr>\n",
       "      <th>...</th>\n",
       "      <td>...</td>\n",
       "      <td>...</td>\n",
       "      <td>...</td>\n",
       "      <td>...</td>\n",
       "    </tr>\n",
       "    <tr>\n",
       "      <th>1995</th>\n",
       "      <td>pos/cv995_21821.txt</td>\n",
       "      <td>5</td>\n",
       "      <td>18</td>\n",
       "      <td>3</td>\n",
       "    </tr>\n",
       "    <tr>\n",
       "      <th>1996</th>\n",
       "      <td>pos/cv996_11592.txt</td>\n",
       "      <td>5</td>\n",
       "      <td>16</td>\n",
       "      <td>2</td>\n",
       "    </tr>\n",
       "    <tr>\n",
       "      <th>1997</th>\n",
       "      <td>pos/cv997_5046.txt</td>\n",
       "      <td>5</td>\n",
       "      <td>24</td>\n",
       "      <td>2</td>\n",
       "    </tr>\n",
       "    <tr>\n",
       "      <th>1998</th>\n",
       "      <td>pos/cv998_14111.txt</td>\n",
       "      <td>5</td>\n",
       "      <td>19</td>\n",
       "      <td>3</td>\n",
       "    </tr>\n",
       "    <tr>\n",
       "      <th>1999</th>\n",
       "      <td>pos/cv999_13106.txt</td>\n",
       "      <td>5</td>\n",
       "      <td>20</td>\n",
       "      <td>3</td>\n",
       "    </tr>\n",
       "  </tbody>\n",
       "</table>\n",
       "<p>2000 rows × 4 columns</p>\n",
       "</div>"
      ],
      "text/plain": [
       "                  Text ID  Average Word Length  Average Sentence Length  \\\n",
       "0     neg/cv000_29416.txt                    5                       20   \n",
       "1     neg/cv001_19502.txt                    5                       22   \n",
       "2     neg/cv002_17424.txt                    5                       23   \n",
       "3     neg/cv003_12683.txt                    5                       27   \n",
       "4     neg/cv004_12641.txt                    5                       24   \n",
       "...                   ...                  ...                      ...   \n",
       "1995  pos/cv995_21821.txt                    5                       18   \n",
       "1996  pos/cv996_11592.txt                    5                       16   \n",
       "1997   pos/cv997_5046.txt                    5                       24   \n",
       "1998  pos/cv998_14111.txt                    5                       19   \n",
       "1999  pos/cv999_13106.txt                    5                       20   \n",
       "\n",
       "      Linguistic Diversity  \n",
       "0                        2  \n",
       "1                        2  \n",
       "2                        2  \n",
       "3                        2  \n",
       "4                        2  \n",
       "...                    ...  \n",
       "1995                     3  \n",
       "1996                     2  \n",
       "1997                     2  \n",
       "1998                     3  \n",
       "1999                     3  \n",
       "\n",
       "[2000 rows x 4 columns]"
      ]
     },
     "execution_count": 38,
     "metadata": {},
     "output_type": "execute_result"
    }
   ],
   "source": [
    "df_stats = pd.DataFrame(stats, columns = ['Text ID', 'Average Word Length', 'Average Sentence Length', 'Linguistic Diversity'])\n",
    "df_stats"
   ]
  },
  {
   "cell_type": "markdown",
   "metadata": {},
   "source": [
    "## Conditional frequency distribution<br>\n",
    "\n",
    "<p>Using nltk module, I will calculate a conditional frequency over the corpus to analyze the use of the following words: <em>good, bad, amazing, awful, no, not</em>.</p>"
   ]
  },
  {
   "cell_type": "code",
   "execution_count": 60,
   "metadata": {},
   "outputs": [
    {
     "name": "stdout",
     "output_type": "stream",
     "text": [
      "       good     bad amazing   awful      no     not \n",
      "neg    1163    1034      67     111    1411    2651 \n",
      "pos    1248     361     117      21    1061    2926 \n"
     ]
    }
   ],
   "source": [
    "cond_fd = nltk.ConditionalFreqDist(\n",
    "    (sentiment, word)\n",
    "    for sentiment in movie_reviews.categories()\n",
    "    for word in movie_reviews.words(categories=sentiment))\n",
    "sentiments = ['neg', 'pos']\n",
    "target_words = ['good', 'bad', 'amazing', 'awful', 'no', 'not']\n",
    "cond_fd.tabulate(samples = target_words, conditions = sentiments)"
   ]
  },
  {
   "cell_type": "markdown",
   "metadata": {},
   "source": [
    "## Category balance<br>\n",
    "<p>To check if the categories are balanced, I will count the total number of words in the positive category and the negative category.</p>"
   ]
  },
  {
   "cell_type": "code",
   "execution_count": 41,
   "metadata": {},
   "outputs": [
    {
     "name": "stdout",
     "output_type": "stream",
     "text": [
      "Total number of words in the positive review category: 832564\n",
      "Total number of words in the negative review category: 751256\n"
     ]
    }
   ],
   "source": [
    "neg_words = movie_reviews.words(categories = 'neg')\n",
    "pos_words = movie_reviews.words(categories = 'pos')\n",
    "neg_words_count = len(neg_words)\n",
    "pos_words_count = len(pos_words)\n",
    "print(f\"Total number of words in the positive review category: {pos_words_count}\")\n",
    "print(f\"Total number of words in the negative review category: {neg_words_count}\")"
   ]
  },
  {
   "cell_type": "markdown",
   "metadata": {},
   "source": [
    "## Positive and negative indicators<br>\n",
    "\n",
    "<p>I assume that the total  number of words in each category is close enough to analyze the raw frequency table pretty fairly.<br><br>\n",
    "<p>In order to check which words would be the best indicators of a good review and a bad review, I will make two functions: pos_indicator and neg_indicator. Since the data is fairly distributed, I use the count for target word in one target category (pos or neg for pos_indicator and neg_indicator accordingly) divided by the total count of the target word in both categories and take the percentage.</p>"
   ]
  },
  {
   "cell_type": "code",
   "execution_count": 42,
   "metadata": {},
   "outputs": [],
   "source": [
    "def pos_indicator(word='str'):\n",
    "    word_pos_count = len([w for w in movie_reviews.words(categories = 'pos') if w == word])\n",
    "    word_neg_count = len([w for w in movie_reviews.words(categories = 'neg') if w == word])\n",
    "    count_total = word_neg_count + word_pos_count\n",
    "    per_word = print(round(100*word_pos_count/count_total), \"%\")\n",
    "    return per_word"
   ]
  },
  {
   "cell_type": "code",
   "execution_count": 43,
   "metadata": {},
   "outputs": [
    {
     "name": "stdout",
     "output_type": "stream",
     "text": [
      "64 %\n"
     ]
    }
   ],
   "source": [
    "pos_indicator('amazing')"
   ]
  },
  {
   "cell_type": "code",
   "execution_count": 44,
   "metadata": {},
   "outputs": [
    {
     "name": "stdout",
     "output_type": "stream",
     "text": [
      "52 %\n"
     ]
    }
   ],
   "source": [
    "pos_indicator('good')"
   ]
  },
  {
   "cell_type": "code",
   "execution_count": 45,
   "metadata": {},
   "outputs": [],
   "source": [
    "def neg_indicator(word='str'):\n",
    "    word_pos_count = len([w for w in movie_reviews.words(categories = 'pos') if w == word])\n",
    "    word_neg_count = len([w for w in movie_reviews.words(categories = 'neg') if w == word])\n",
    "    count_total = word_neg_count + word_pos_count\n",
    "    per_word = print(round(100*word_neg_count/count_total), \"%\")\n",
    "    return per_word"
   ]
  },
  {
   "cell_type": "code",
   "execution_count": 46,
   "metadata": {},
   "outputs": [
    {
     "name": "stdout",
     "output_type": "stream",
     "text": [
      "74 %\n"
     ]
    }
   ],
   "source": [
    "neg_indicator('bad')"
   ]
  },
  {
   "cell_type": "code",
   "execution_count": 47,
   "metadata": {},
   "outputs": [
    {
     "name": "stdout",
     "output_type": "stream",
     "text": [
      "84 %\n"
     ]
    }
   ],
   "source": [
    "neg_indicator('awful')"
   ]
  },
  {
   "cell_type": "markdown",
   "metadata": {},
   "source": [
    "## Results<br>\n",
    "\n",
    "<p>From the analysis, it can be concluded that the word 'amazing' is more frequently used in the positive reviews than the word 'good'. Therefore, 'amazing' is a better indicator for the positive category.<br>I used the word 'good' in the comparison to find the best indicator, however, the counts for this word in both categories are surprisingly close.<br>\n",
    "<p>The word 'awful' is more frequently used in the negative reviews than the word 'bad'. Hence, 'awful' is a better indicator for the negative category.</p>"
   ]
  },
  {
   "cell_type": "markdown",
   "metadata": {},
   "source": [
    "## Further analysis - Concordances<br>\n",
    "\n",
    "<p>The frequency distributions were especially surprising for 4 target words: <em>not, no and bad</em> in positive category and <em>good</em> for negative category. To take a closer look at their usage, I check the concordances for those words in their less expected categories respectedly.</p>"
   ]
  },
  {
   "cell_type": "code",
   "execution_count": 48,
   "metadata": {},
   "outputs": [
    {
     "name": "stdout",
     "output_type": "stream",
     "text": [
      "Displaying 25 of 2926 matches:\n",
      "dley ( robbie coltrane , the world is not enough ) calls in inspector frederick\n",
      "y finished ( both color and music had not been finalized , so no comments about\n",
      "have . _election , a good film , does not live up to its hype . what makes _ele\n",
      "ts , and yet both films were probably not even aware of each other , made from \n",
      "real acting was involved and there is not an original or inventive bone in it '\n",
      "imental and at times terribly mushy , not to mention very manipulative . but oh\n",
      "h a huge special - effects budget but not enough money to hire any recognizable\n",
      "d dubbing and supporting characters , not to mention the hideous title sequence\n",
      "powerful tribes , proclaiming himself not tribal , not regional , but a nationa\n",
      "es , proclaiming himself not tribal , not regional , but a national leader . hi\n",
      "straightforward manner that teaches , not preaches . it concentrates on the goo\n",
      " tradition , the supporting cast does not outshine the star , complementing his\n",
      "f the fight , but it seems that he is not happy with the final product , and ne\n",
      "tory x to be an extremely good film , not just because of tony kaye ' s focused\n",
      "sting is that these two young men are not stupid , thoughtless people -- they a\n",
      "ard to make a controversial movie and not preach , but kaye has found the right\n",
      "e with this , because , although i do not advocate racism in any way , it ' s i\n",
      "e about his beliefs , and that he ' s not just a punk looking for an excuse to \n",
      ". it ' s hard to imagine any director not being at least partially pleased with\n",
      "s over - the - top performance should not be missed . the scrumptious comic act\n",
      " of asian wire - fu copycats . it ' s not a pretty death , and it ' s leaving t\n",
      "ks were sore and realized that , when not laughing aloud , i had held a grin fo\n",
      "han elegantly presented fluff . i ' m not trying to say city of angels is that \n",
      "y . angels , who we quickly learn are not and never were humans , can not exper\n",
      "n are not and never were humans , can not experience human sensations such as t\n"
     ]
    }
   ],
   "source": [
    "text_pos = nltk.Text(pos_words)\n",
    "text_pos.concordance('not')"
   ]
  },
  {
   "cell_type": "code",
   "execution_count": 49,
   "metadata": {},
   "outputs": [
    {
     "name": "stdout",
     "output_type": "stream",
     "text": [
      "Displaying 25 of 1061 matches:\n",
      "and music had not been finalized , so no comments about marilyn manson ) , but\n",
      "ming from mtv films , i should expect no less . . . but the film starts off li\n",
      "er relationship ? even so , there ' s no logical reason why mr . m has an affa\n",
      " hours and then collect the profits . no real acting was involved and there is\n",
      "re , director steven spielberg wastes no time , taking us into the water on a \n",
      "vies all rolled into one , and it ' s no wonder it took america by storm in th\n",
      "ngs i like about jackie chan movies : no political correctness ) . he is joine\n",
      " oppression . iron monkey succeeds as no kung fu film since drunken master 2 .\n",
      " and minds of its audience . while in no way the equal of a masterpiece like d\n",
      " track of who is ahead . the race has no rules ? whichever contestant reaches \n",
      ", nick shaffer ( breckin meyer ) is a no - nonsense lawyer - in - training who\n",
      " rat race \" is a riot , with terrific no - holds - barred performances from th\n",
      " framing device ) , is paid virtually no attention . but hicks ' direction is \n",
      "eve he ' s going to shoot a hostage , no matter if the hostage tried to kill h\n",
      " who is determined to follow all laws no matter how unfair they may be . howev\n",
      "ger becomes so thunderous that he can no longer hold it in . sean connery , wh\n",
      "issions . star trek : insurrection is no exception . the film has gotten some \n",
      "t span of this weekend , bulworth ' s no - nonsense \" truth in politics \" meth\n",
      "own , but the cathartic moments yield no easy answers this time . hall has som\n",
      "y with children can moisten any eye . no claus for alarm . junior ====== arnol\n",
      "ow a broad spectrum of the audience . no matter who is watching , it all comes\n",
      "ary and fascinating . scorsese spares no effort to show us all the violence , \n",
      "of these woods and go home ! there is no goddamned blair witch ! \" . jeff ( ) \n",
      "ing \" the first rule of wicca is , do no harm , because whatever you do will c\n",
      "first to get lost in it . there is is no book of shadows and no conclusion tha\n"
     ]
    }
   ],
   "source": [
    "text_pos.concordance('no')"
   ]
  },
  {
   "cell_type": "markdown",
   "metadata": {},
   "source": [
    "<p>As it can be concluded, the word 'not', even if used in the positive category, does not always indicate a negative meaning and is very often used as a negative particle: 'when not laughing aloud', 'can not experience human', 'i do not advocate', 'i ' m not trying', 'are not stupid'. Ihe last example especially is the evidence for language ambiguity. Even though the particle 'not' has a logical negative connotation, it actually reverses another word's negative connotation ('stupid'). There are some occurences that are still suprising, e.g. 'he is not happy with the final product'. However, without the context, it is not possible to draw clear conclusions.</p>\n",
    "<p>The word 'no' is often used in similar contexts as 'not': 'there is is no book of shadows', 'there is no goddamned blair witch', 'i like about jackie chan movies : no political correctness'. Even if something is negated in the review, it does not mean that the overall feeling about the movie is negative. The word 'no' indicates often the lack of a feature which is treated as a positive thing about a particular movie. The fixed phrase 'no matter... (if, how, who)' seems to a frequent occurence but it does not indicate either positivity or negativity of the whole review.<br>\n",
    "<p>Concluding, 'no' and 'not', regardless of being negation particles, cannot be used as negative reviews indicators. The surprising frequency distribution counts are better understood and explained after the analysis of concordances.</p>"
   ]
  },
  {
   "cell_type": "code",
   "execution_count": 50,
   "metadata": {},
   "outputs": [
    {
     "name": "stdout",
     "output_type": "stream",
     "text": [
      "Displaying 25 of 361 matches:\n",
      "ccent , but it actually wasn ' t half bad . the film , however , is all good . \n",
      "kly , distract from the story . it is bad enough that mr . m doesn ' t like tra\n",
      " domination . the situation goes from bad to worse as the army mutinies , the r\n",
      "d the violence that comes with it are bad things . what makes this all interest\n",
      " trying to say city of angels is that bad . it had a lot going for it , but som\n",
      "urposeful , clear - cut good guys and bad guys , puts the fictional characters \n",
      "ld in his portrayal of a cop - gone - bad . gibson , of course , was just being\n",
      "d karaoke jam . the cable guy has its bad spots , like most any movie . i didn \n",
      "n life ( he muses later that it ' s a bad thing to make decisions when you ' re\n",
      "ngs , while depression , paranoia and bad times find their expression in more n\n",
      "al . in the end , i can ' t call it a bad effort . it ' s less artistic , not s\n",
      "and less original , but certainly not bad . it ' s simply different . in fact ,\n",
      "age . still , the film is by no means bad and is consistently entertaining and \n",
      "is initially the good cop to loki ' s bad ) drives the climax , said rant is gi\n",
      "at the mouth while projecting all his bad intentions to the world . you ' d thi\n",
      "does not mean that the film itself is bad . in fact , it is terrific . i strong\n",
      " direction . if i had to say anything bad about good will hunting is that it wa\n",
      "ng and fantasizing about fighting the bad guys , travelling to different countr\n",
      "he has to fight a ' matrix skipping ' bad guy , who wants to send him back to h\n",
      "ed by unremarkable people who had the bad luck to be caught up and smashed in t\n",
      ") and the 1991 bomb shout ( which was bad enough to make most people scream ) .\n",
      "hree blind mice , pinocchio , the big bad wolf , the seven dwarfs , and the thr\n",
      "rt , tall , skinny , fat , etc . is a bad thing . after watching the first ten \n",
      "t mansley , is not a villain who does bad things simply because he wants to , b\n",
      "tory , that the holocaust wasn + t as bad as it seems , is simply off - target \n"
     ]
    }
   ],
   "source": [
    "text_pos.concordance('bad')"
   ]
  },
  {
   "cell_type": "markdown",
   "metadata": {},
   "source": [
    "<p>The word 'bad' is often used with negation particles in positive reviews which reverses its meaning ('wasn + t as bad as', 'but certainly not bad', 'the film is by no means bad'). 'Bad' occurs in the context where it explains the nature of characters or their actions, not the feeling about the movie: 'the big bad wolf', 'a villain who does bad things', 'good guys and bad guys', 'fighting the bad guys', ' matrix skipping ' bad guy'.</p>"
   ]
  },
  {
   "cell_type": "code",
   "execution_count": 51,
   "metadata": {},
   "outputs": [
    {
     "name": "stdout",
     "output_type": "stream",
     "text": [
      "Displaying 25 of 1163 matches:\n",
      " highway & memento ) , but there are good and bad ways of making all types of \n",
      "e more sense . the actors are pretty good for the most part , although wes ben\n",
      "me schnazzy cgi , and the occasional good gore shot , like picking into someon\n",
      "gh too much of this mess to find the good . aside from the fact that children \n",
      " are . if you ' re in the mood for a good suspense film , though , stake out s\n",
      "hat still does not make for a really good science fiction experience . ghosts \n",
      "ce without breathing gear ( which is good for the film ' s budget ) . it is ne\n",
      "n of joaquin phoenix ( who ' s quite good and by far the film ' s most interes\n",
      "alo in a romantic comedy -- it was a good idea a couple years ago with the tru\n",
      "mailed me too , saying clueless is a good movie and that i ' m the only one wh\n",
      " love the movie . the preview looked good and of course i ' m crazymadinlove w\n",
      "rgence of late has been surprisingly good in terms of comedy . what makes movi\n",
      "the big gorilla . \" spawn \" features good guys , bad guys , lots of fighting ,\n",
      " was a film that didn ' t deserve so good a polish , it ' s this one . don ' t\n",
      "inally , the acting . nobody gives a good performance in this film . van damme\n",
      ". . . and discovers there ' s a very good possibility it was a conspiracy . as\n",
      "d conquer mars , but nothing beats a good stick of tnt . and as we all know , \n",
      "eeds to stall interminably until the good guy has a chance to kill his captor \n",
      "y digital , and the video is fair to good for a film like this . i believe thi\n",
      "o tell a story . shelton has been so good in the past at using sports to analy\n",
      "s , and \" romeo must die \" does look good . but the pacing of the film is leth\n",
      " for his body double making him look good on the football field , and cheerlea\n",
      "o a shame when decent directors with good movies under their belts go to seed \n",
      "iously the problem is that without a good script , any director will fail in t\n",
      " nostalgic about 1980s can find very good reason in the type of movies that ma\n"
     ]
    }
   ],
   "source": [
    "text_neg = nltk.Text(neg_words)\n",
    "text_neg.concordance('good')"
   ]
  },
  {
   "cell_type": "markdown",
   "metadata": {},
   "source": [
    "<p>The analysis of the word 'good' in negative reviews lead to similar conclusions. 'Good' is semantically reversed using negations: 'without a good script', 'nobody gives a good performance', 'does not make for a really good science fiction'. There are a lot of cases when an adverb, adjective or a phrase used in the whole sentence with the word 'good', changes the sense completely or is used to make the negative feeling about the movie milder: 'the video is fair to good for', 'occasional good gore shot', 'there are good and bad ways of', 'are pretty good for the most part'. It indicates that writing reviews we tend to be more careful with expressing negative opinions and it's reflected in the language.</p>"
   ]
  },
  {
   "cell_type": "markdown",
   "metadata": {},
   "source": [
    "## Further analysis - Common contexts<br>"
   ]
  },
  {
   "cell_type": "code",
   "execution_count": 52,
   "metadata": {},
   "outputs": [
    {
     "name": "stdout",
     "output_type": "stream",
     "text": [
      "Negative category:\n",
      "\n",
      "._only is_. is_only is_one ._one s_one s_so ,_one a_- -_- the_-\n",
      "but_one is_, s_- are_interesting was_one is_lost and_one has_one are_\"\n",
      "None\n",
      "\n",
      "Positive category:\n",
      "\n",
      "._only or_, is_one a_- is_. -_- is_bad is_right *_* ._one s_easy ,_-\n",
      ",_one is_\" -_, s_\" since_one for_just but_one are_\"\n",
      "None\n"
     ]
    }
   ],
   "source": [
    "print(\"Negative category:\\n\")\n",
    "print(text_neg.common_contexts(['not','no']))\n",
    "print(\"\\nPositive category:\\n\")\n",
    "print(text_pos.common_contexts(['not','no']))"
   ]
  },
  {
   "cell_type": "code",
   "execution_count": 53,
   "metadata": {},
   "outputs": [
    {
     "name": "stdout",
     "output_type": "stream",
     "text": [
      "Negative category:\n",
      "\n",
      "as_as so_that so_, is_. t_, that_. pretty_movie is_, just_. be_.\n",
      "how_it was_in ._acting was_. are_, plain_. pretty_, ._, so_i are_.\n",
      "None\n",
      "\n",
      "Positive category:\n",
      "\n",
      "are_, are_.\n",
      "None\n"
     ]
    }
   ],
   "source": [
    "print(\"Negative category:\\n\")\n",
    "print(text_neg.common_contexts(['bad','awful']))\n",
    "print(\"\\nPositive category:\\n\")\n",
    "print(text_pos.common_contexts(['bad','awful']))"
   ]
  },
  {
   "cell_type": "code",
   "execution_count": 54,
   "metadata": {},
   "outputs": [
    {
     "name": "stdout",
     "output_type": "stream",
     "text": [
      "Negative category:\n",
      "\n",
      "is_, so_about was_, s_to the_thing\n",
      "None\n",
      "\n",
      "Positive category:\n",
      "\n",
      "pretty_, is_, quite_, so_that are_, so_. that_. s_, is_. \"_\"\n",
      "and_performances is_in truly_. both_and the_things were_, also_.\n",
      "how_she is_as\n",
      "None\n"
     ]
    }
   ],
   "source": [
    "print(\"Negative category:\\n\")\n",
    "print(text_neg.common_contexts(['good','amazing']))\n",
    "print(\"\\nPositive category:\\n\")\n",
    "print(text_pos.common_contexts(['good','amazing']))"
   ]
  },
  {
   "cell_type": "markdown",
   "metadata": {},
   "source": [
    "<p>The analysis of common contexts of negatively connotated words in positive reviews, and the opposite case, shows that positive reviews includes some negative comments as well but in overall the reviews are positive. The same happens to be true for the opposite situation for negative reviews.<br>The case of 'not' and 'no' shows that only analyzing the particles in context can give reliable results and correct sentiment label.</p>"
   ]
  },
  {
   "cell_type": "markdown",
   "metadata": {},
   "source": [
    "## Further analysis - Collocations<br>"
   ]
  },
  {
   "cell_type": "code",
   "execution_count": 55,
   "metadata": {},
   "outputs": [
    {
     "name": "stdout",
     "output_type": "stream",
     "text": [
      "special effects; new york; high school; van damme; hong kong; even\n",
      "though; blair witch; box office; bruce willis; action sequences; looks\n",
      "like; years ago; science fiction; las vegas; last year; keanu reeves;\n",
      "starship troopers; running time; urban legend; jackie chan\n"
     ]
    }
   ],
   "source": [
    "text_neg.collocations()"
   ]
  },
  {
   "cell_type": "code",
   "execution_count": 56,
   "metadata": {},
   "outputs": [
    {
     "name": "stdout",
     "output_type": "stream",
     "text": [
      "special effects; star wars; new york; pulp fiction; science fiction;\n",
      "star trek; phantom menace; even though; high school; united states;\n",
      "boogie nights; hong kong; jackie chan; starship troopers; supporting\n",
      "cast; jackie brown; private ryan; martial arts; motion picture; box\n",
      "office\n"
     ]
    }
   ],
   "source": [
    "text_pos.collocations()"
   ]
  },
  {
   "cell_type": "markdown",
   "metadata": {},
   "source": [
    "<p>There are few interesting observations.<br><br>\n",
    "In the positive reviews the titles of movies occur more often than in the negative reviews. We don't know which movies were actually reviewed so it might mean that those titles (star wars [phantom menace], pulp fiction, star trek, boogie nights, private ryan, jackie brown) are used as a sort of benchmark to compare a good movie to. The titles don't necessarily occur in the negative category so they don't need to be the subject of the analysis but they are mentioned as a reference.<br><br>\n",
    "The actors' names occur more often in the negative category. There is only one name occuring in the positive reviews ('jackie chan') but it appears also in the negative category. It might suggest that acting and main cast of a movie are the leading factors for giving a negative review. "
   ]
  }
 ],
 "metadata": {
  "interpreter": {
   "hash": "b9966e35d8ddcc16d8fbe51bd8abd6d67e347c3cf98a5088998386093a1ca970"
  },
  "kernelspec": {
   "display_name": "Python 3.8.5 64-bit ('base': conda)",
   "name": "python3"
  },
  "language_info": {
   "codemirror_mode": {
    "name": "ipython",
    "version": 3
   },
   "file_extension": ".py",
   "mimetype": "text/x-python",
   "name": "python",
   "nbconvert_exporter": "python",
   "pygments_lexer": "ipython3",
   "version": "3.8.5"
  },
  "orig_nbformat": 4
 },
 "nbformat": 4,
 "nbformat_minor": 2
}
